{
 "cells": [
  {
   "cell_type": "markdown",
   "metadata": {},
   "source": [
    "# Interbank Network Simulation (Refined)"
   ]
  },
  {
   "cell_type": "markdown",
   "metadata": {},
   "source": [
    "Using the Furfine Algorithm, we calculate the effect of a random bank default in the setting of an Erdos-Renyi network. This is done as follows:\n",
    "\n",
    "1. Create a bank object with a fixed balance sheet. \n",
    "2. Initialise a network where nodes are banks and edges are interbank loans.\n",
    "   - A network is connected to another network if a number chosen at random is smaller than some probability p.\n",
    "3. Randomly default one of the banks in the network by setting their assets to zero. \n",
    "4. Recalculate the total assets of each bank connected to the defaulted bank.\n",
    "   - To do this, subtract the defaulted bank's interbank liability from its neighbouring banks' assets.\n",
    "5. If for the neighbouring banks' assets are now less than zero, mark this as another default and repeat step 3 onwards modelling the defaulting bank as this bank.\n"
   ]
  },
  {
   "cell_type": "markdown",
   "metadata": {},
   "source": [
    "## Generate a Random Financial Network"
   ]
  },
  {
   "cell_type": "code",
   "execution_count": 1,
   "metadata": {},
   "outputs": [],
   "source": [
    "EXTERNAL_ASSETS = 0.8\n",
    "BANK_DEFAULTS = []\n",
    "DATA = {}"
   ]
  },
  {
   "cell_type": "code",
   "execution_count": 2,
   "metadata": {},
   "outputs": [],
   "source": [
    "class Bank(object):\n",
    "    def __init__(self, bank_id, interbank_assets=0.2, liabilities=0.96):\n",
    "        self.bank_id = bank_id\n",
    "        self.interbank_assets = interbank_assets\n",
    "        self.liabilities = liabilities\n",
    "        self.default = False\n",
    "        self.bank_connected = [] #List of banks it owes money to\n",
    "        self.bank_lent = 0 #Number of banks owing money from it\n",
    "        self.edges = [] # Elements of edges: (the bank itself, the bank it borrows money from, the amount of liabilities)\n",
    "        \n",
    "    # For NetworkX to label the bank based on ID.\n",
    "    def __str__(self):\n",
    "        return str(self.bank_id)\n",
    "    \n",
    "    # This function is called when the bank connected to 'self' defaults, transmitting its loss to the asset.\n",
    "    def update_total_assets(self, loss):\n",
    "        self.interbank_assets -= loss \n",
    "        global EXTERNAL_ASSETS\n",
    "        if(EXTERNAL_ASSETS + self.interbank_assets < self.liabilities):\n",
    "            global BANK_DEFAULTS\n",
    "            BANK_DEFAULTS.append(self)\n",
    "        \n",
    "    # This function is called every time 'self' borrows money from a new bank.  \n",
    "    def update_connection(self, bank):\n",
    "        self.bank_connected.append(bank)\n",
    "        bank.bank_lent += 1\n",
    "    \n",
    "    # This function is called when the bank is set to default.\n",
    "    def default_bank(self):\n",
    "        self.default = True\n",
    "        for bank in self.bank_connected:\n",
    "            if (bank.default==False):\n",
    "                bank.update_total_assets(self.interbank_assets/bank.bank_lent)\n",
    "    \n",
    "    def total_assets(self):\n",
    "        return self.interbank_assets + EXTERNAL_ASSETS"
   ]
  },
  {
   "cell_type": "markdown",
   "metadata": {},
   "source": [
    "## Generate the Graph"
   ]
  },
  {
   "cell_type": "code",
   "execution_count": 3,
   "metadata": {},
   "outputs": [],
   "source": [
    "class Graph(object):\n",
    "    def __init__(self, bank_number=5, average_degree=5, iteration=2):\n",
    "        self.bank_number = bank_number\n",
    "        self.average_degree = average_degree\n",
    "        self.bank_list = []\n",
    "        self.iteration = iteration\n",
    "        self.global_cascades = 0\n",
    "        self.borrow_probability = 0\n",
    "        self.connection = 0\n",
    "    \n",
    "    # Generate random banks and random connections between banks.\n",
    "    def generate_bank(self):\n",
    "        self.borrow_probability = self.average_degree/self.bank_number\n",
    "        for i in range(self.bank_number):\n",
    "            newBank = Bank(bank_id=i)\n",
    "            self.bank_list.append(newBank)\n",
    "        potential_lender = self.bank_list.copy()\n",
    "        \n",
    "        for bank in self.bank_list:\n",
    "            for lender in potential_lender:\n",
    "                import random\n",
    "                tendency = random.uniform(0, 1) # Generate random number. The lower, the higher chance of a connection.\n",
    "                if(bank!=lender and tendency < self.borrow_probability):\n",
    "                    bank.update_connection(lender)\n",
    "                    self.connection += 1\n",
    "        \n",
    "        self.random_default_bank()\n",
    "        self.print_banks_status()\n",
    "        if(len(BANK_DEFAULTS)/self.bank_number >= 0.05):\n",
    "            self.global_cascades += 1\n",
    "        \n",
    "    def draw_graph(self):\n",
    "        self.connection = 0\n",
    "        for i in range(0,self.iteration):\n",
    "            global BANK_DEFAULTS\n",
    "            BANK_DEFAULTS.clear()\n",
    "            self.bank_list.clear()\n",
    "            self.generate_bank()\n",
    "        self.store_data()\n",
    "        \n",
    "    def print_banks_status(self):\n",
    "        global BANK_DEFAULTS\n",
    "        #print(\"Total Number of Defaults \", len(BANK_DEFAULTS))\n",
    "            \n",
    "    def random_default_bank(self):\n",
    "        import random\n",
    "        random_bank = random.choice(self.bank_list)\n",
    "        #print(\"The bank chosen to default is Bank\" , random_bank.bank_id)\n",
    "        global BANK_DEFAULTS\n",
    "        BANK_DEFAULTS.append(random_bank)\n",
    "        i = 0\n",
    "        while i < len(BANK_DEFAULTS):\n",
    "            #print(len(BANK_DEFAULTS))\n",
    "            BANK_DEFAULTS[i].default_bank()\n",
    "            i+=1\n",
    "        \n",
    "    def store_data(self):\n",
    "        import json\n",
    "        #average_degree = self.average_degree\n",
    "        prob_contagion = self.global_cascades/self.iteration\n",
    "        average_degree = self.connection / (self.iteration * self.bank_number)\n",
    "        print(\"Average Degree : \", average_degree , \"Probability of Contagion : \", prob_contagion)\n",
    "        #print(\"Average Degree : \", average_degree , \"Actual Total : \", connection)\n",
    "        DATA[average_degree] = prob_contagion"
   ]
  },
  {
   "cell_type": "markdown",
   "metadata": {},
   "source": [
    "## Initialise and Display Graph"
   ]
  },
  {
   "cell_type": "code",
   "execution_count": 4,
   "metadata": {},
   "outputs": [
    {
     "name": "stdout",
     "output_type": "stream",
     "text": [
      "Average Degree :  0.0 Probability of Contagion :  0.0\n",
      "Average Degree :  0.4995 Probability of Contagion :  0.02\n",
      "Average Degree :  0.9896 Probability of Contagion :  0.21\n",
      "Average Degree :  1.4851 Probability of Contagion :  0.42\n",
      "Average Degree :  1.9824 Probability of Contagion :  0.57\n",
      "Average Degree :  2.4769 Probability of Contagion :  0.56\n",
      "Average Degree :  2.9322 Probability of Contagion :  0.65\n",
      "Average Degree :  3.4621 Probability of Contagion :  0.6\n",
      "Average Degree :  3.9922 Probability of Contagion :  0.6\n",
      "Average Degree :  4.4256 Probability of Contagion :  0.59\n",
      "Average Degree :  4.9308 Probability of Contagion :  0.45\n",
      "Average Degree :  5.4882 Probability of Contagion :  0.3\n",
      "Average Degree :  5.9194 Probability of Contagion :  0.2\n",
      "Average Degree :  6.4661 Probability of Contagion :  0.18\n",
      "Average Degree :  6.9386 Probability of Contagion :  0.08\n",
      "Average Degree :  7.4519 Probability of Contagion :  0.06\n",
      "Average Degree :  7.8958 Probability of Contagion :  0.02\n",
      "Average Degree :  8.3839 Probability of Contagion :  0.02\n",
      "Average Degree :  8.8991 Probability of Contagion :  0.0\n",
      "Average Degree :  9.4359 Probability of Contagion :  0.0\n"
     ]
    }
   ],
   "source": [
    "import numpy\n",
    "for i in numpy.arange(0,10,0.5):\n",
    "    graph = Graph(bank_number=100, average_degree=i, iteration=100)\n",
    "    graph.draw_graph()"
   ]
  },
  {
   "cell_type": "markdown",
   "metadata": {},
   "source": [
    "## Plot Graph"
   ]
  },
  {
   "cell_type": "code",
   "execution_count": 7,
   "metadata": {},
   "outputs": [
    {
     "data": {
      "image/png": "[encoded data removed]",
      "text/plain": [
       "<Figure size 432x288 with 1 Axes>"
      ]
     },
     "metadata": {
      "needs_background": "light"
     },
     "output_type": "display_data"
    }
   ],
   "source": [
    "import matplotlib.pyplot as plt\n",
    "import json\n",
    "import collections\n",
    "import numpy as np\n",
    "\n",
    "x_axis = []\n",
    "y_axis = []\n",
    "\n",
    "DATA = dict(sorted(DATA.items()))\n",
    "for key, value in DATA.items():\n",
    "    x_axis.append(float(key))\n",
    "    y_axis.append(float(value))\n",
    "    \n",
    "x_axis = np.array(x_axis)\n",
    "y_axis = np.array(y_axis)\n",
    "\n",
    "# plt.scatter(x_axis, y_axis)\n",
    "plt.title(\"Evaluating Contagion in an Erdos-Renyi Network\")\n",
    "plt.xlabel(\"Average Degree\")\n",
    "plt.ylabel(\"Probabilty of Contagion\")\n",
    "plt.plot(x_axis, y_axis, \"x\")\n",
    "plt.axis([0, 10, 0, 1])\n",
    "plt.show()"
   ]
  },
  {
   "cell_type": "markdown",
   "metadata": {},
   "source": [
    "### Todo:\n",
    "1. Functions for calculating (a) average degree of a graph and (b) probability of contagion\n",
    "2. Add graph of average degree (x-axis) against probability of contagion (y-axis)."
   ]
  },
  {
   "cell_type": "code",
   "execution_count": null,
   "metadata": {},
   "outputs": [],
   "source": []
  }
 ],
 "metadata": {
  "kernelspec": {
   "display_name": "Python 3",
   "language": "python",
   "name": "python3"
  },
  "language_info": {
   "codemirror_mode": {
    "name": "ipython",
    "version": 3
   },
   "file_extension": ".py",
   "mimetype": "text/x-python",
   "name": "python",
   "nbconvert_exporter": "python",
   "pygments_lexer": "ipython3",
   "version": "3.8.5"
  }
 },
 "nbformat": 4,
 "nbformat_minor": 2
}
