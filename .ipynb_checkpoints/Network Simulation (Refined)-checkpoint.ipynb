{
 "cells": [
  {
   "cell_type": "markdown",
   "metadata": {},
   "source": [
    "# Interbank Network Simulation (Refined)"
   ]
  },
  {
   "cell_type": "markdown",
   "metadata": {},
   "source": [
    "Using the Furfine Algorithm, we calculate the effect of a random bank default in the setting of an Erdos-Renyi network. This is done as follows:\n",
    "\n",
    "1. Create a bank object with a fixed balance sheet. \n",
    "2. Initialise a network where nodes are banks and edges are interbank loans.\n",
    "   - A network is connected to another network if a number chosen at random is smaller than some probability p.\n",
    "3. Randomly default one of the banks in the network by setting their assets to zero. \n",
    "4. Recalculate the total assets of each bank connected to the defaulted bank.\n",
    "   - To do this, subtract the defaulted bank's interbank liability from its neighbouring banks' assets.\n",
    "5. If for the neighbouring banks' assets are now less than zero, mark this as another default and repeat step 3 onwards modelling the defaulting bank as this bank.\n"
   ]
  },
  {
   "cell_type": "markdown",
   "metadata": {},
   "source": [
    "## Generate a Random Financial Network"
   ]
  },
  {
   "cell_type": "code",
   "execution_count": 1,
   "metadata": {},
   "outputs": [],
   "source": [
    "EXTERNAL_ASSETS = 0.8\n",
    "BANK_DEFAULTS = []"
   ]
  },
  {
   "cell_type": "code",
   "execution_count": 14,
   "metadata": {},
   "outputs": [],
   "source": [
    "class Bank(object):\n",
    "    def __init__(self, bank_id, interbank_assets=0.2, liabilities=0.96):\n",
    "        self.bank_id = bank_id\n",
    "        self.interbank_assets = interbank_assets\n",
    "        self.liabilities = liabilities\n",
    "        self.default = False\n",
    "        self.bank_connected = [] #List of banks it owes money to\n",
    "        self.bank_lent = 0 #Number of banks owing money from it\n",
    "        self.edges = [] # Elements of edges: (the bank itself, the bank it borrows money from, the amount of liabilities)\n",
    "        \n",
    "    # For NetworkX to label the bank based on ID.\n",
    "    def __str__(self):\n",
    "        return str(self.bank_id)\n",
    "    \n",
    "    # This function is called when the bank connected to 'self' defaults, transmitting its loss to the asset.\n",
    "    def update_total_assets(self, loss):\n",
    "        self.interbank_assets -= loss \n",
    "        global EXTERNAL_ASSETS\n",
    "        if(EXTERNAL_ASSETS + self.interbank_assets < self.liabilities):\n",
    "            global BANK_DEFAULTS\n",
    "            BANK_DEFAULTS.append(self)\n",
    "        \n",
    "    # This function is called every time 'self' borrows money from a new bank.  \n",
    "    def update_connection(self, bank):\n",
    "        self.bank_connected.append(bank)\n",
    "        bank.bank_lent += 1\n",
    "    \n",
    "    # This function is called when the bank is set to default.\n",
    "    def default_bank(self):\n",
    "        self.default = True\n",
    "        for bank in self.bank_connected:\n",
    "            if (bank.default==False):\n",
    "                bank.update_total_assets(self.interbank_assets/bank.bank_lent)\n",
    "    \n",
    "    def total_assets(self):\n",
    "        return self.interbank_assets + EXTERNAL_ASSETS"
   ]
  },
  {
   "cell_type": "markdown",
   "metadata": {},
   "source": [
    "## Generate the Graph"
   ]
  },
  {
   "cell_type": "code",
   "execution_count": 15,
   "metadata": {},
   "outputs": [],
   "source": [
    "class Graph(object):\n",
    "    def __init__(self, bank_number=5, borrow_probability=0.25, iteration=2):\n",
    "        self.bank_number = bank_number\n",
    "        self.borrow_probability = borrow_probability\n",
    "        self.bank_list = []\n",
    "        self.iteration = iteration\n",
    "        self.global_cascades = 0\n",
    "    \n",
    "    # Generate random banks and random connections between banks.\n",
    "    def generate_bank(self):\n",
    "        for i in range(self.bank_number):\n",
    "            newBank = Bank(bank_id=i)\n",
    "            self.bank_list.append(newBank)\n",
    "        \n",
    "        potential_lender = self.bank_list.copy()\n",
    "        \n",
    "        for bank in self.bank_list:\n",
    "            for lender in potential_lender:\n",
    "                import random\n",
    "                tendency = random.uniform(0, 1) # Generate random number. The lower, the higher chance of a connection.\n",
    "                if(bank!=lender and tendency < self.borrow_probability):\n",
    "                    bank.update_connection(lender)\n",
    "        \n",
    "        self.random_default_bank()\n",
    "        self.print_banks_status()\n",
    "        print([bank.bank_id for bank in BANK_DEFAULTS])\n",
    "        if(len(BANK_DEFAULTS)/self.bank_number >= 0.05):\n",
    "            self.global_cascades += 1\n",
    "        \n",
    "    def draw_graph(self):\n",
    "        for i in range(0,self.iteration):\n",
    "            global BANK_DEFAULTS\n",
    "            BANK_DEFAULTS.clear()\n",
    "            self.generate_bank()\n",
    "        self.store_data()\n",
    "        \n",
    "    def print_banks_status(self):\n",
    "        global BANK_DEFAULTS\n",
    "        print(\"Total Number of Defaults \", len(BANK_DEFAULTS))\n",
    "            \n",
    "    def random_default_bank(self):\n",
    "        import random\n",
    "        random_bank = random.choice(self.bank_list)\n",
    "        print(\"The bank chosen to default is Bank\" , random_bank.bank_id)\n",
    "        random_bank.default_bank()\n",
    "        i = 0\n",
    "        for i in range(0,len(BANK_DEFAULTS)):\n",
    "            BANK_DEFAULTS[i].default_bank()\n",
    "        \n",
    "    def store_data(self):\n",
    "        import json\n",
    "        average_degree = self.borrow_probability * self.bank_number\n",
    "        prob_contagion = self.global_cascades/self.iteration\n",
    "        print(\"Average Degree : \", average_degree , \"Probability of Contagion : \", prob_contagion)\n",
    "        with open('data.json') as f:\n",
    "            data = json.loads(f.read())\n",
    "            data[average_degree] = prob_contagion\n",
    "            print(data)\n",
    "            with open('data.json', 'w') as f:\n",
    "                json.dump(data, f)"
   ]
  },
  {
   "cell_type": "markdown",
   "metadata": {},
   "source": [
    "## Initialise and Display Graph"
   ]
  },
  {
   "cell_type": "code",
   "execution_count": 16,
   "metadata": {},
   "outputs": [
    {
     "name": "stdout",
     "output_type": "stream",
     "text": [
      "The bank chosen to default is Bank 44\n",
      "Total Number of Defaults  5\n",
      "[0, 39, 58, 5, 10]\n",
      "The bank chosen to default is Bank 85\n",
      "Total Number of Defaults  0\n",
      "[]\n",
      "The bank chosen to default is Bank 29\n",
      "Total Number of Defaults  0\n",
      "[]\n",
      "The bank chosen to default is Bank 0\n",
      "Total Number of Defaults  0\n",
      "[]\n",
      "The bank chosen to default is Bank 58\n",
      "Total Number of Defaults  0\n",
      "[]\n",
      "The bank chosen to default is Bank 50\n",
      "Total Number of Defaults  0\n",
      "[]\n",
      "The bank chosen to default is Bank 58\n",
      "Total Number of Defaults  0\n",
      "[]\n",
      "The bank chosen to default is Bank 38\n",
      "Total Number of Defaults  3\n",
      "[68, 58, 58]\n",
      "The bank chosen to default is Bank 36\n",
      "Total Number of Defaults  4\n",
      "[58, 10, 47, 47]\n",
      "The bank chosen to default is Bank 24\n",
      "Total Number of Defaults  0\n",
      "[]\n",
      "Average Degree :  4.0 Probability of Contagion :  0.1\n",
      "{'4.0': 1.0, 4.0: 0.1}\n",
      "time :  2.458508253097534\n"
     ]
    }
   ],
   "source": [
    "graph = Graph(bank_number=100, borrow_probability=0.04, iteration=10)\n",
    "import time\n",
    "past_time = time.time()\n",
    "graph.draw_graph()\n",
    "print(\"time : \", time.time() - past_time)"
   ]
  },
  {
   "cell_type": "markdown",
   "metadata": {},
   "source": [
    "## Plot Graph"
   ]
  },
  {
   "cell_type": "code",
   "execution_count": 5,
   "metadata": {},
   "outputs": [
    {
     "data": {
      "text/plain": [
       "<Figure size 640x480 with 1 Axes>"
      ]
     },
     "metadata": {},
     "output_type": "display_data"
    }
   ],
   "source": [
    "import matplotlib.pyplot as plt\n",
    "import json\n",
    "\n",
    "with open('data.json') as f:\n",
    "    data = json.loads(f.read())\n",
    "    x_axis = []\n",
    "    y_axis = []\n",
    "    for key, value in data.items():\n",
    "        x_axis.append(float(key))\n",
    "        y_axis.append(float(value))\n",
    "    plt.plot(x_axis, y_axis)\n",
    "    plt.axis([0, 100, 0, 1])\n",
    "    plt.show()"
   ]
  },
  {
   "cell_type": "markdown",
   "metadata": {},
   "source": [
    "### Todo:\n",
    "1. Functions for calculating (a) average degree of a graph and (b) probability of contagion\n",
    "2. Add graph of average degree (x-axis) against probability of contagion (y-axis)."
   ]
  }
 ],
 "metadata": {
  "kernelspec": {
   "display_name": "Python 3",
   "language": "python",
   "name": "python3"
  },
  "language_info": {
   "codemirror_mode": {
    "name": "ipython",
    "version": 3
   },
   "file_extension": ".py",
   "mimetype": "text/x-python",
   "name": "python",
   "nbconvert_exporter": "python",
   "pygments_lexer": "ipython3",
   "version": "3.7.0"
  }
 },
 "nbformat": 4,
 "nbformat_minor": 2
}
