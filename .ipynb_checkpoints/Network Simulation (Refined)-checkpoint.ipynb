{
 "cells": [
  {
   "cell_type": "markdown",
   "metadata": {},
   "source": [
    "# Interbank Network Simulation (Refined)"
   ]
  },
  {
   "cell_type": "markdown",
   "metadata": {},
   "source": [
    "Using the Furfine Algorithm, we calculate the effect of a random bank default in the setting of an Erdos-Renyi network. This is done as follows:\n",
    "\n",
    "1. Create a bank object with a fixed balance sheet. \n",
    "2. Initialise a network where nodes are banks and edges are interbank loans.\n",
    "   - A network is connected to another network if a number chosen at random is smaller than some probability p.\n",
    "3. Randomly default one of the banks in the network by setting their assets to zero. \n",
    "4. Recalculate the total assets of each bank connected to the defaulted bank.\n",
    "   - To do this, subtract the defaulted bank's interbank liability from its neighbouring banks' assets.\n",
    "5. If for the neighbouring banks' assets are now less than zero, mark this as another default and repeat step 3 onwards modelling the defaulting bank as this bank.\n"
   ]
  },
  {
   "cell_type": "markdown",
   "metadata": {},
   "source": [
    "## Generate a Random Financial Network"
   ]
  },
  {
   "cell_type": "code",
   "execution_count": 13,
   "metadata": {},
   "outputs": [],
   "source": [
    "EXTERNAL_ASSETS = 0.8\n",
    "NUMBER_OF_DEFAULT = 0"
   ]
  },
  {
   "cell_type": "code",
   "execution_count": 14,
   "metadata": {},
   "outputs": [],
   "source": [
    "class Bank(object):\n",
    "    def __init__(self, bank_id, interbank_assets=0.2, liabilities=0.96, default=False):\n",
    "        self.bank_id = bank_id\n",
    "        self.interbank_assets = interbank_assets\n",
    "        self.liabilities = liabilities\n",
    "        self.default = default\n",
    "        self.bank_connected = [] #List of banks it owes money to\n",
    "        self.bank_lent = 0 #Number of banks owing money from it\n",
    "        self.edges = [] # Elements of edges: (the bank itself, the bank it borrows money from, the amount of liabilities)\n",
    "        \n",
    "    # For NetworkX to label the bank based on ID.\n",
    "    def __str__(self):\n",
    "        return str(self.bank_id)\n",
    "    \n",
    "    # This function is called when the bank connected to 'self' defaults, transmitting its loss to the asset.\n",
    "    def update_total_assets(self, loss):\n",
    "        self.interbank_assets -= loss \n",
    "        global EXTERNAL_ASSETS\n",
    "        if(EXTERNAL_ASSETS + self.interbank_assets < self.liabilities):\n",
    "            NUMBER_OF_DEFAULT = 0\n",
    "            self.default_bank()\n",
    "        \n",
    "    # This function is called every time 'self' borrows money from a new bank.  \n",
    "    def update_connection(self, bank):\n",
    "        self.bank_connected.append(bank)\n",
    "        bank.bank_lent += 1\n",
    "    \n",
    "    # This function is called when the bank is set to default.\n",
    "    def default_bank(self):\n",
    "        self.default = True\n",
    "        for bank in self.bank_connected:\n",
    "            if (bank.default==False):\n",
    "                bank.update_total_assets(self.interbank_assets/self.bank_lent)\n",
    "    \n",
    "    def total_assets(self):\n",
    "        return self.interbank_assets + EXTERNAL_ASSETS"
   ]
  },
  {
   "cell_type": "markdown",
   "metadata": {},
   "source": [
    "## Generate the Graph"
   ]
  },
  {
   "cell_type": "code",
   "execution_count": 17,
   "metadata": {},
   "outputs": [],
   "source": [
    "class Graph(object):\n",
    "    def __init__(self, bank_number=5, borrow_probability=0.25, iteration=10):\n",
    "        self.bank_number = bank_number\n",
    "        self.borrow_probability = borrow_probability\n",
    "        self.bank_list = []\n",
    "        self.iteration = iteration\n",
    "        self.global_cascades = 0\n",
    "    \n",
    "    # Generate random banks and random connections between banks.\n",
    "    def generate_bank(self):\n",
    "        for i in range(self.bank_number):\n",
    "            newBank = Bank(bank_id=i)\n",
    "            self.bank_list.append(newBank)\n",
    "        \n",
    "        potential_lender = self.bank_list.copy()\n",
    "        \n",
    "        for bank in self.bank_list:\n",
    "            for lender in potential_lender:\n",
    "                import random\n",
    "                tendency = random.uniform(0, 1) # Generate random number. The lower, the higher chance of a connection.\n",
    "                if(bank!=lender and tendency < self.borrow_probability):\n",
    "                    bank.update_connection(lender)\n",
    "        \n",
    "        self.random_default_bank()\n",
    "        self.print_banks_status()\n",
    "        if(NUMBER_OF_DEFAULT/self.bank_number >= 0.05):\n",
    "            self.global_cascades += 1\n",
    "        \n",
    "    def draw_graph(self):\n",
    "        for i in range(0,self.iteration):\n",
    "            global NUMBER_OF_DEFAULT\n",
    "            NUMBER_OF_DEFAULT = 0\n",
    "            self.generate_bank()\n",
    "            \n",
    "        self.store_data()\n",
    "        \n",
    "    def print_banks_status(self):\n",
    "        global NUMBER_OF_DEFAULT\n",
    "        print(\"Total Number of Defaults \", NUMBER_OF_DEFAULT)\n",
    "            \n",
    "    def random_default_bank(self):\n",
    "        import random\n",
    "        random_bank = random.choice(self.bank_list)\n",
    "        print(\"The bank chosen to default is Bank\" , random_bank.bank_id)\n",
    "        random_bank.default_bank()\n",
    "        \n",
    "    def store_data(self):\n",
    "        import json\n",
    "        average_degree = self.borrow_probability * self.bank_number\n",
    "        prob_contagion = self.global_cascades/self.iteration\n",
    "        print(\"Probability of Contagion : \", prob_contagion)\n",
    "        with open('data.json') as f:\n",
    "            data = json.loads(f.read())\n",
    "            data[average_degree] = prob\n",
    "            print(data)\n",
    "            with open('data.json', 'w') as f:\n",
    "                json.dump(data, f)"
   ]
  },
  {
   "cell_type": "markdown",
   "metadata": {},
   "source": [
    "## Initialise and Display Graph"
   ]
  },
  {
   "cell_type": "code",
   "execution_count": 18,
   "metadata": {},
   "outputs": [
    {
     "name": "stdout",
     "output_type": "stream",
     "text": [
      "The bank chosen to default is Bank 136\n",
      "Total Number of Defaults  0\n",
      "Probability of Contagion :  0.0\n",
      "The bank chosen to default is Bank 133\n",
      "Total Number of Defaults  0\n",
      "Probability of Contagion :  0.0\n",
      "The bank chosen to default is Bank 126\n",
      "Total Number of Defaults  0\n",
      "Probability of Contagion :  0.0\n",
      "The bank chosen to default is Bank 161\n",
      "Total Number of Defaults  0\n",
      "Probability of Contagion :  0.0\n",
      "The bank chosen to default is Bank 4\n",
      "Total Number of Defaults  0\n",
      "Probability of Contagion :  0.0\n",
      "The bank chosen to default is Bank 68\n",
      "Total Number of Defaults  0\n",
      "Probability of Contagion :  0.0\n",
      "The bank chosen to default is Bank 138\n",
      "Total Number of Defaults  0\n",
      "Probability of Contagion :  0.0\n",
      "The bank chosen to default is Bank 145\n",
      "Total Number of Defaults  0\n",
      "Probability of Contagion :  0.0\n",
      "The bank chosen to default is Bank 180\n",
      "Total Number of Defaults  0\n",
      "Probability of Contagion :  0.0\n",
      "The bank chosen to default is Bank 86\n",
      "Total Number of Defaults  0\n",
      "Probability of Contagion :  0.0\n"
     ]
    },
    {
     "ename": "NameError",
     "evalue": "name 'prob_contagion' is not defined",
     "output_type": "error",
     "traceback": [
      "\u001b[0;31m---------------------------------------------------------------------------\u001b[0m",
      "\u001b[0;31mNameError\u001b[0m                                 Traceback (most recent call last)",
      "\u001b[0;32m<ipython-input-18-a055fde86c45>\u001b[0m in \u001b[0;36m<module>\u001b[0;34m\u001b[0m\n\u001b[1;32m      2\u001b[0m \u001b[0;32mimport\u001b[0m \u001b[0mtime\u001b[0m\u001b[0;34m\u001b[0m\u001b[0m\n\u001b[1;32m      3\u001b[0m \u001b[0mpast_time\u001b[0m \u001b[0;34m=\u001b[0m \u001b[0mtime\u001b[0m\u001b[0;34m.\u001b[0m\u001b[0mtime\u001b[0m\u001b[0;34m(\u001b[0m\u001b[0;34m)\u001b[0m\u001b[0;34m\u001b[0m\u001b[0m\n\u001b[0;32m----> 4\u001b[0;31m \u001b[0mgraph\u001b[0m\u001b[0;34m.\u001b[0m\u001b[0mdraw_graph\u001b[0m\u001b[0;34m(\u001b[0m\u001b[0;34m)\u001b[0m\u001b[0;34m\u001b[0m\u001b[0m\n\u001b[0m\u001b[1;32m      5\u001b[0m \u001b[0mprint\u001b[0m\u001b[0;34m(\u001b[0m\u001b[0;34m\"time : \"\u001b[0m\u001b[0;34m,\u001b[0m \u001b[0mtime\u001b[0m\u001b[0;34m.\u001b[0m\u001b[0mtime\u001b[0m\u001b[0;34m(\u001b[0m\u001b[0;34m)\u001b[0m \u001b[0;34m-\u001b[0m \u001b[0mpast_time\u001b[0m\u001b[0;34m)\u001b[0m\u001b[0;34m\u001b[0m\u001b[0m\n",
      "\u001b[0;32m<ipython-input-17-66bb143ca1e2>\u001b[0m in \u001b[0;36mdraw_graph\u001b[0;34m(self)\u001b[0m\n\u001b[1;32m     36\u001b[0m             \u001b[0mself\u001b[0m\u001b[0;34m.\u001b[0m\u001b[0mgenerate_bank\u001b[0m\u001b[0;34m(\u001b[0m\u001b[0;34m)\u001b[0m\u001b[0;34m\u001b[0m\u001b[0m\n\u001b[1;32m     37\u001b[0m \u001b[0;34m\u001b[0m\u001b[0m\n\u001b[0;32m---> 38\u001b[0;31m         \u001b[0mself\u001b[0m\u001b[0;34m.\u001b[0m\u001b[0mstore_data\u001b[0m\u001b[0;34m(\u001b[0m\u001b[0mprob_contagion\u001b[0m\u001b[0;34m)\u001b[0m\u001b[0;34m\u001b[0m\u001b[0m\n\u001b[0m\u001b[1;32m     39\u001b[0m \u001b[0;34m\u001b[0m\u001b[0m\n\u001b[1;32m     40\u001b[0m     \u001b[0;32mdef\u001b[0m \u001b[0mprint_banks_status\u001b[0m\u001b[0;34m(\u001b[0m\u001b[0mself\u001b[0m\u001b[0;34m)\u001b[0m\u001b[0;34m:\u001b[0m\u001b[0;34m\u001b[0m\u001b[0m\n",
      "\u001b[0;31mNameError\u001b[0m: name 'prob_contagion' is not defined"
     ]
    }
   ],
   "source": [
    "graph = Graph(bank_number=200, borrow_probability=0.2)\n",
    "import time\n",
    "past_time = time.time()\n",
    "graph.draw_graph()\n",
    "print(\"time : \", time.time() - past_time)"
   ]
  },
  {
   "cell_type": "markdown",
   "metadata": {},
   "source": [
    "## Store Data to JSON"
   ]
  },
  {
   "cell_type": "code",
   "execution_count": null,
   "metadata": {},
   "outputs": [],
   "source": []
  },
  {
   "cell_type": "markdown",
   "metadata": {},
   "source": [
    "### Todo:\n",
    "1. Functions for calculating (a) average degree of a graph and (b) probability of contagion\n",
    "2. Add graph of average degree (x-axis) against probability of contagion (y-axis)."
   ]
  }
 ],
 "metadata": {
  "kernelspec": {
   "display_name": "Python 3",
   "language": "python",
   "name": "python3"
  },
  "language_info": {
   "codemirror_mode": {
    "name": "ipython",
    "version": 3
   },
   "file_extension": ".py",
   "mimetype": "text/x-python",
   "name": "python",
   "nbconvert_exporter": "python",
   "pygments_lexer": "ipython3",
   "version": "3.7.0"
  }
 },
 "nbformat": 4,
 "nbformat_minor": 2
}
