{
 "cells": [
  {
   "cell_type": "markdown",
   "metadata": {},
   "source": [
    "# Interbank Network Simulation (Refined)"
   ]
  },
  {
   "cell_type": "markdown",
   "metadata": {},
   "source": [
    "We use Furfine algorithm to calculate the contagion effects of systemic risk in a randomly generated financial network. This is done by few steps:\n",
    "\n",
    "1. Randomly defaulting a bank in the network.\n",
    "2. Recalculate the total assets of each bank connected to the bank by subtracting it with liabilities.\n",
    "3. If total assets < 0, default the bank, and repeat step 2 and 3 with reference from this bank."
   ]
  },
  {
   "cell_type": "markdown",
   "metadata": {},
   "source": [
    "## Generate a Random Financial Network"
   ]
  },
  {
   "cell_type": "code",
   "execution_count": 1,
   "metadata": {},
   "outputs": [],
   "source": [
    "EXTERNAL_ASSETS = 0.8"
   ]
  },
  {
   "cell_type": "code",
   "execution_count": 2,
   "metadata": {},
   "outputs": [],
   "source": [
    "class Bank(object):\n",
    "    def __init__(self, bank_id, interbank_assets=0.2, liabilities=0.96, default=False, bank_connected=[]):\n",
    "        self.bank_id = bank_id\n",
    "        self.interbank_assets = interbank_assets\n",
    "        self.liabilities = liabilities\n",
    "        self.default = default\n",
    "        self.bank_connected = bank_connected\n",
    "        global EXTERNAL_ASSETS\n",
    "        self.total_assets = self.interbank_assets + EXTERNAL_ASSETS\n",
    "        self.edges = [] #element of edges: (the bank itself, the bank it borrows money from, the amount of liabilities)\n",
    "        \n",
    "    #For NetworkX to label the bank based on ID.\n",
    "    def __str__(self):\n",
    "        return str(self.bank_id)\n",
    "    \n",
    "    #This function is called when the bank connected to this bank defaults, transmitting its loss to the asset.\n",
    "    def update_total_assets(self, loss):\n",
    "        self.total_assets = self.total_assets - loss\n",
    "        if(self.total_assets < 0):\n",
    "            self.default_bank()\n",
    "        \n",
    "    #This function is called every time the bank borrows money from a new bank.  \n",
    "    def update_connection(self, bank):\n",
    "        self.bank_connected.append(bank)\n",
    "    \n",
    "    #This function is called when the bank is set to default.\n",
    "    def default_bank(self):\n",
    "        self.default = True\n",
    "        for bank in self.bank_connected:\n",
    "            bank.update_total_assets(self.current_liabilities())\n",
    "    \n",
    "    #Erdos Renyi, where the link weights should be liabilities/k\n",
    "    def current_liabilities(self):\n",
    "        k = len(self.bank_connected)\n",
    "        return self.liabilities/k\n",
    "    \n",
    "    #This function is called when the bank finish borrowing from other bank, and it can list out all edges (from itself to other banks) with weight.\n",
    "    def compile_connection(self):\n",
    "        for bank in self.bank_connected:\n",
    "            self.edges.append((self.bank_id, bank.bank_id, self.current_liabilities()))\n",
    "        print(self.edges)"
   ]
  },
  {
   "cell_type": "markdown",
   "metadata": {},
   "source": [
    "## Generate the Graph"
   ]
  },
  {
   "cell_type": "code",
   "execution_count": 3,
   "metadata": {},
   "outputs": [],
   "source": [
    "class Graph(object):\n",
    "    def __init__(self, bank_number=5, borrow_probability=0.15):\n",
    "        self.bank_number = bank_number\n",
    "        self.borrow_probability = borrow_probability\n",
    "        self.bank_list = []\n",
    "    \n",
    "    #Generate random banks and random connections between banks.\n",
    "    def generate_bank(self):\n",
    "        for i in range(self.bank_number):\n",
    "            newBank = Bank(bank_id=i)\n",
    "            self.bank_list.append(newBank)\n",
    "        \n",
    "        potential_lender = self.bank_list.copy()\n",
    "        \n",
    "        for bank in self.bank_list:\n",
    "            for lender in potential_lender:\n",
    "                import random\n",
    "                tendency = random.uniform(0, 1) #generate tendency of bank borrowing from lender. the lower, the more tendency.\n",
    "                if(bank!=lender and tendency < self.borrow_probability):\n",
    "                    bank.update_connection(lender)\n",
    "            bank.compile_connection()\n",
    "\n",
    "    def draw_graph(self):\n",
    "        self.generate_bank()\n",
    "        import pygraphviz as pgv\n",
    "        G=pgv.AGraph(strict=False,directed=True)\n",
    "        G.edge_attr['penwidth']=1.0\n",
    "        G.edge_attr['fontcolor']='red'\n",
    "        G.edge_attr['len']=1.5\n",
    "        for bank in self.bank_list:\n",
    "            for edge in bank.edges:\n",
    "                G.add_edge(edge[0], edge[1], label=round(edge[2],2))\n",
    "        \n",
    "        print(G)\n",
    "        \n",
    "        G.layout()\n",
    "        G.draw('network.png') "
   ]
  },
  {
   "cell_type": "code",
   "execution_count": 5,
   "metadata": {},
   "outputs": [
    {
     "name": "stdout",
     "output_type": "stream",
     "text": [
      "[(0, 2, 0.96)]\n",
      "[(1, 2, 0.48), (1, 3, 0.48)]\n",
      "[(2, 2, 0.48), (2, 3, 0.48)]\n",
      "[(3, 2, 0.48), (3, 3, 0.48)]\n",
      "digraph \"\" {\n",
      "\tedge [fontcolor=red,\n",
      "\t\tlen=1.5,\n",
      "\t\tpenwidth=1.0\n",
      "\t];\n",
      "\t0 -> 2\t [label=0.96];\n",
      "\t2 -> 2\t [label=0.48];\n",
      "\t2 -> 3\t [label=0.48];\n",
      "\t3 -> 2\t [label=0.48];\n",
      "\t3 -> 3\t [label=0.48];\n",
      "\t1 -> 2\t [label=0.48];\n",
      "\t1 -> 3\t [label=0.48];\n",
      "}\n",
      "\n"
     ]
    },
    {
     "data": {
      "image/png": "[encoded data removed]",
      "text/plain": [
       "<IPython.core.display.Image object>"
      ]
     },
     "execution_count": 5,
     "metadata": {},
     "output_type": "execute_result"
    }
   ],
   "source": [
    "graph = Graph(bank_number=4)\n",
    "graph.draw_graph()\n",
    "from IPython.display import Image\n",
    "Image('network.png')"
   ]
  },
  {
   "cell_type": "code",
   "execution_count": null,
   "metadata": {},
   "outputs": [],
   "source": []
  },
  {
   "cell_type": "code",
   "execution_count": null,
   "metadata": {},
   "outputs": [],
   "source": []
  }
 ],
 "metadata": {
  "kernelspec": {
   "display_name": "Python 3",
   "language": "python",
   "name": "python3"
  },
  "language_info": {
   "codemirror_mode": {
    "name": "ipython",
    "version": 3
   },
   "file_extension": ".py",
   "mimetype": "text/x-python",
   "name": "python",
   "nbconvert_exporter": "python",
   "pygments_lexer": "ipython3",
   "version": "3.7.3"
  }
 },
 "nbformat": 4,
 "nbformat_minor": 2
}
